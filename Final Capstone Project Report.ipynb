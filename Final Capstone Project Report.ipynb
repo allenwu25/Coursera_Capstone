{
 "cells": [
  {
   "cell_type": "markdown",
   "metadata": {},
   "source": [
    "# Determining the Best US Airport to open a Restaurant"
   ]
  },
  {
   "cell_type": "markdown",
   "metadata": {},
   "source": [
    "## Introduction"
   ]
  },
  {
   "cell_type": "markdown",
   "metadata": {},
   "source": [
    "Determining the best large US airport to open a new restaurant\n",
    "Opening a new restaurant is no easy feat, and especially not in an airport. US international airports offer \n",
    "vendors heavy foot traffic with millions of yearly customers. If a good location is selected, a US airport \n",
    "restaurant can be incredibly successful and profitable. However, unlike regular restaurants, airport restaurants \n",
    "must contend with a myriad of other factors to operate. Rental prices are often much higher than outside the \n",
    "airport, there are strict regulations to comply with in opening an airport restaurant, and vendors often times\n",
    "face difficulties with supplies and logistics. Thus, not carefully selecting a location can have incredibly high\n",
    "stakes for the owner, and it is imperative that a data-driven approach is required to find the best location.\n",
    "\n",
    "The project will determine an airport or cluster of airports where it is most ideal to open a new restaurant \n",
    "based on features such as yearly passenger traffic, rental prices, and existing number of restaurants and venues. \n",
    "The BeautifulSoup library will be used to scrape Wikipedia in order to obtain information about airports and their\n",
    "passenger volume. Upon doing so, a geocoder API can be used to determine latitude and longitude coordinates for \n",
    "each airport location. In addition, I plan on utilizing the Foursquare API to determine information about existing\n",
    "venues and restaurants near airports.\n"
   ]
  },
  {
   "cell_type": "code",
   "execution_count": 3,
   "metadata": {},
   "outputs": [],
   "source": [
    "from bs4 import BeautifulSoup\n",
    "import pandas as pd\n",
    "import requests\n",
    "import numpy as np"
   ]
  },
  {
   "cell_type": "code",
   "execution_count": 7,
   "metadata": {},
   "outputs": [],
   "source": [
    "wiki_url = 'https://en.wikipedia.org/wiki/List_of_airports_in_the_United_States'\n",
    "wiki_rawHTML = requests.get(wiki_url).text\n",
    "wiki_content = BeautifulSoup(wiki_rawHTML, 'lxml')"
   ]
  },
  {
   "cell_type": "code",
   "execution_count": 11,
   "metadata": {},
   "outputs": [],
   "source": [
    "airports_table = wiki_content.find('table', {'class':'wikitable sortable'})\n",
    "airports_table_rows = airports_table.find_all('tr')"
   ]
  },
  {
   "cell_type": "code",
   "execution_count": null,
   "metadata": {},
   "outputs": [],
   "source": []
  }
 ],
 "metadata": {
  "kernelspec": {
   "display_name": "Python 3",
   "language": "python",
   "name": "python3"
  },
  "language_info": {
   "codemirror_mode": {
    "name": "ipython",
    "version": 3
   },
   "file_extension": ".py",
   "mimetype": "text/x-python",
   "name": "python",
   "nbconvert_exporter": "python",
   "pygments_lexer": "ipython3",
   "version": "3.6.4"
  }
 },
 "nbformat": 4,
 "nbformat_minor": 2
}
